{
 "cells": [
  {
   "cell_type": "code",
   "execution_count": 1,
   "metadata": {},
   "outputs": [],
   "source": [
    "import math\n",
    "import time\n",
    "from matplotlib import pyplot as plt\n",
    "import numpy as np\n",
    "\n",
    "sureler = []\n",
    "boyutlar = []"
   ]
  },
  {
   "cell_type": "code",
   "execution_count": 2,
   "metadata": {},
   "outputs": [],
   "source": [
    "def sureOlc(func):\n",
    "    def wrapper(*args, **kwargs):\n",
    "        # milisaniye cinsinden sureyi hesapla\n",
    "        baslangic = time.perf_counter()\n",
    "        sonuc = func(*args, **kwargs)\n",
    "        bitis = time.perf_counter()\n",
    "        sure = (bitis - baslangic) * 1000  # saniye cinsinden süreyi milisaniyeye çevir\n",
    "        sureler.append(sure)  # süreyi kaydet\n",
    "        print(\"Fonksiyonun çalışma süresi: {:.2f} ms\".format(sure))\n",
    "        return sure, sonuc\n",
    "    return wrapper"
   ]
  },
  {
   "cell_type": "markdown",
   "metadata": {},
   "source": [
    "## En kısa yol hesaplama fonksiyonu"
   ]
  },
  {
   "cell_type": "code",
   "execution_count": 3,
   "metadata": {},
   "outputs": [],
   "source": [
    "def calculate(cities):\n",
    "    # Başlangıç şehri olarak ilk şehri seç\n",
    "    start_city = cities[0]\n",
    "    cities_to_visit = set(cities[1:])\n",
    "\n",
    "    # En kısa yolu ve mesafeyi hesaplamak için kullanılacak değişkenler\n",
    "    shortest_path = [start_city]\n",
    "    shortest_distance = 0.0\n",
    "\n",
    "    # İki nokta arasındaki mesafeyi hesaplamak için kullanılacak fonksiyon\n",
    "    def distance(city1, city2):\n",
    "        x1, y1 = city1\n",
    "        x2, y2 = city2\n",
    "        return math.sqrt((x1 - x2)**2 + (y1 - y2)**2)\n",
    "\n",
    "    # Tüm şehirler ziyaret edilene kadar devam et\n",
    "    while cities_to_visit:\n",
    "        nearest_city = min(cities_to_visit, key=lambda city: distance(shortest_path[-1], city))\n",
    "        shortest_path.append(nearest_city)\n",
    "        cities_to_visit.remove(nearest_city)\n",
    "        shortest_distance += distance(shortest_path[-2], shortest_path[-1])\n",
    "\n",
    "    # Son şehirden başlangıç şehrine dön\n",
    "    shortest_distance += distance(shortest_path[-1], start_city)\n",
    "    shortest_path.append(start_city)\n",
    "    indexList = []\n",
    "    for i in shortest_path:\n",
    "        indexList.append(cities.index(i))\n",
    "\n",
    "    # En kısa yolu ve mesafeyi döndür\n",
    "    return indexList, shortest_distance\n"
   ]
  },
  {
   "cell_type": "code",
   "execution_count": 4,
   "metadata": {},
   "outputs": [],
   "source": [
    "toplam_mesafeler = []"
   ]
  },
  {
   "cell_type": "code",
   "execution_count": 5,
   "metadata": {},
   "outputs": [],
   "source": [
    "@sureOlc\n",
    "def main(f):\n",
    "    boyut = f.readline()\n",
    "    cities = [tuple(map(float, line.strip().split())) for line in f]\n",
    "    enKisaYol, toplamMesafe = calculate(cities)\n",
    "    print(f\"En kısa yol {i}: {enKisaYol}\")\n",
    "    print(f\"Toplam mesafe {i}: {toplamMesafe}\")\n",
    "    toplam_mesafeler.append(toplamMesafe)"
   ]
  },
  {
   "cell_type": "code",
   "execution_count": 6,
   "metadata": {},
   "outputs": [
    {
     "name": "stdout",
     "output_type": "stream",
     "text": [
      "En kısa yol 5: [0, 1, 2, 3, 4, 0]\n",
      "Toplam mesafe 5: 4.0\n",
      "Fonksiyonun çalışma süresi: 0.28 ms\n",
      "En kısa yol 124: [...]\n",
"Toplam mesafe 124: 70123.66927940497\n",
      "Fonksiyonun çalışma süresi: 3.41 ms\n",
      "En kısa yol 1000: [...]\n",
"Toplam mesafe 1000: 22886884.829212695\n",
      "Fonksiyonun çalışma süresi: 199.54 ms\n",
      "En kısa yol 5915: [...]\n",
"Toplam mesafe 5915: 681235.3375693884\n",
      "Fonksiyonun çalışma süresi: 6703.49 ms\n",
      "En kısa yol 11849: [...]\n",
"Toplam mesafe 11849: 1121274.3128304896\n",
      "Fonksiyonun çalışma süresi: 27498.95 ms\n"
     ]
    }
   ],
   "source": [
    "if __name__ == '__main__':\n",
    "    boyutlar = [5, 124, 1000,5915,11849]\n",
    "    for i in boyutlar:\n",
    "        with open(f'tsp_{i}_1.txt') as f:\n",
    "            main(f)"
   ]
  },
  {
   "cell_type": "markdown",
   "metadata": {},
   "source": [
    "## Grafik Çizimi"
   ]
  },
  {
   "cell_type": "code",
   "execution_count": 7,
   "metadata": {},
   "outputs": [
    {
     "name": "stdout",
     "output_type": "stream",
     "text": [
      "[0.28490001568570733, 3.40630003483966, 199.54370002960786, 6703.489699983038, 27498.954200011212]\n",
      "[5, 124, 1000, 5915, 11849]\n"
     ]
    },
    {
     "data": {
      "image/png": "[encoded data removed]",
      "text/plain": [
       "<Figure size 500x500 with 1 Axes>"
      ]
     },
     "metadata": {},
     "output_type": "display_data"
    }
   ],
   "source": [
    "plt.figure(figsize=(5, 5))\n",
    "print(sureler)\n",
    "print(boyutlar)\n",
    "x = np.array(boyutlar)\n",
    "y = np.array(sureler)\n",
    "plt.plot(x,y,color = 'red', linewidth = 2, markersize = 4, markerfacecolor = 'blue', markeredgecolor = 'blue', markeredgewidth = 2)\n",
    "plt.xlabel('Süre (ms)')\n",
    "plt.ylabel('Boyut')\n",
    "\n",
    "plt.title('Boyut-Süre Grafiği')\n",
    "plt.show()"
   ]
  }
 ],
 "metadata": {
  "kernelspec": {
   "display_name": "Python 3.11.0 64-bit",
   "language": "python",
   "name": "python3"
  },
  "language_info": {
   "codemirror_mode": {
    "name": "ipython",
    "version": 3
   },
   "file_extension": ".py",
   "mimetype": "text/x-python",
   "name": "python",
   "nbconvert_exporter": "python",
   "pygments_lexer": "ipython3",
   "version": "3.11.0"
  },
  "orig_nbformat": 4,
  "vscode": {
   "interpreter": {
    "hash": "5ffd7eb2cebf9ac436b5021ba01877e9cee6b03524e01bf8c8637d3e64111215"
   }
  }
 },
 "nbformat": 4,
 "nbformat_minor": 2
}
